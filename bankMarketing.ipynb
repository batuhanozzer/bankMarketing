{
 "cells": [
  {
   "cell_type": "markdown",
   "source": [
    "# Importing the Libraries"
   ],
   "metadata": {
    "collapsed": false
   },
   "id": "d295aeecc89f3160"
  },
  {
   "cell_type": "code",
   "execution_count": 2,
   "outputs": [],
   "source": [
    "# Importing required libraries\n",
    "import pandas as pd\n",
    "import numpy as np\n",
    "import matplotlib.pyplot as plt\n",
    "from ucimlrepo import fetch_ucirepo"
   ],
   "metadata": {
    "collapsed": false,
    "ExecuteTime": {
     "end_time": "2023-12-06T17:49:33.597897500Z",
     "start_time": "2023-12-06T17:49:32.335230300Z"
    }
   },
   "id": "12ce20bdbe545e41"
  },
  {
   "cell_type": "code",
   "execution_count": 3,
   "outputs": [],
   "source": [
    "dataset = pd.read_csv('bank-additional-full.csv', sep=';', quotechar='\"')"
   ],
   "metadata": {
    "collapsed": false,
    "ExecuteTime": {
     "end_time": "2023-12-06T17:49:33.675665500Z",
     "start_time": "2023-12-06T17:49:33.600904300Z"
    }
   },
   "id": "be9933a294524427"
  },
  {
   "cell_type": "code",
   "execution_count": 4,
   "outputs": [
    {
     "data": {
      "text/plain": "       age          job  marital            education  default housing loan  \\\n0       56    housemaid  married             basic.4y       no      no   no   \n1       57     services  married          high.school  unknown      no   no   \n2       37     services  married          high.school       no     yes   no   \n3       40       admin.  married             basic.6y       no      no   no   \n4       56     services  married          high.school       no      no  yes   \n...    ...          ...      ...                  ...      ...     ...  ...   \n41183   73      retired  married  professional.course       no     yes   no   \n41184   46  blue-collar  married  professional.course       no      no   no   \n41185   56      retired  married    university.degree       no     yes   no   \n41186   44   technician  married  professional.course       no      no   no   \n41187   74      retired  married  professional.course       no     yes   no   \n\n         contact month day_of_week  ...  campaign  pdays  previous  \\\n0      telephone   may         mon  ...         1    999         0   \n1      telephone   may         mon  ...         1    999         0   \n2      telephone   may         mon  ...         1    999         0   \n3      telephone   may         mon  ...         1    999         0   \n4      telephone   may         mon  ...         1    999         0   \n...          ...   ...         ...  ...       ...    ...       ...   \n41183   cellular   nov         fri  ...         1    999         0   \n41184   cellular   nov         fri  ...         1    999         0   \n41185   cellular   nov         fri  ...         2    999         0   \n41186   cellular   nov         fri  ...         1    999         0   \n41187   cellular   nov         fri  ...         3    999         1   \n\n          poutcome emp.var.rate  cons.price.idx  cons.conf.idx  euribor3m  \\\n0      nonexistent          1.1          93.994          -36.4      4.857   \n1      nonexistent          1.1          93.994          -36.4      4.857   \n2      nonexistent          1.1          93.994          -36.4      4.857   \n3      nonexistent          1.1          93.994          -36.4      4.857   \n4      nonexistent          1.1          93.994          -36.4      4.857   \n...            ...          ...             ...            ...        ...   \n41183  nonexistent         -1.1          94.767          -50.8      1.028   \n41184  nonexistent         -1.1          94.767          -50.8      1.028   \n41185  nonexistent         -1.1          94.767          -50.8      1.028   \n41186  nonexistent         -1.1          94.767          -50.8      1.028   \n41187      failure         -1.1          94.767          -50.8      1.028   \n\n       nr.employed    y  \n0           5191.0   no  \n1           5191.0   no  \n2           5191.0   no  \n3           5191.0   no  \n4           5191.0   no  \n...            ...  ...  \n41183       4963.6  yes  \n41184       4963.6   no  \n41185       4963.6   no  \n41186       4963.6  yes  \n41187       4963.6   no  \n\n[41188 rows x 21 columns]",
      "text/html": "<div>\n<style scoped>\n    .dataframe tbody tr th:only-of-type {\n        vertical-align: middle;\n    }\n\n    .dataframe tbody tr th {\n        vertical-align: top;\n    }\n\n    .dataframe thead th {\n        text-align: right;\n    }\n</style>\n<table border=\"1\" class=\"dataframe\">\n  <thead>\n    <tr style=\"text-align: right;\">\n      <th></th>\n      <th>age</th>\n      <th>job</th>\n      <th>marital</th>\n      <th>education</th>\n      <th>default</th>\n      <th>housing</th>\n      <th>loan</th>\n      <th>contact</th>\n      <th>month</th>\n      <th>day_of_week</th>\n      <th>...</th>\n      <th>campaign</th>\n      <th>pdays</th>\n      <th>previous</th>\n      <th>poutcome</th>\n      <th>emp.var.rate</th>\n      <th>cons.price.idx</th>\n      <th>cons.conf.idx</th>\n      <th>euribor3m</th>\n      <th>nr.employed</th>\n      <th>y</th>\n    </tr>\n  </thead>\n  <tbody>\n    <tr>\n      <th>0</th>\n      <td>56</td>\n      <td>housemaid</td>\n      <td>married</td>\n      <td>basic.4y</td>\n      <td>no</td>\n      <td>no</td>\n      <td>no</td>\n      <td>telephone</td>\n      <td>may</td>\n      <td>mon</td>\n      <td>...</td>\n      <td>1</td>\n      <td>999</td>\n      <td>0</td>\n      <td>nonexistent</td>\n      <td>1.1</td>\n      <td>93.994</td>\n      <td>-36.4</td>\n      <td>4.857</td>\n      <td>5191.0</td>\n      <td>no</td>\n    </tr>\n    <tr>\n      <th>1</th>\n      <td>57</td>\n      <td>services</td>\n      <td>married</td>\n      <td>high.school</td>\n      <td>unknown</td>\n      <td>no</td>\n      <td>no</td>\n      <td>telephone</td>\n      <td>may</td>\n      <td>mon</td>\n      <td>...</td>\n      <td>1</td>\n      <td>999</td>\n      <td>0</td>\n      <td>nonexistent</td>\n      <td>1.1</td>\n      <td>93.994</td>\n      <td>-36.4</td>\n      <td>4.857</td>\n      <td>5191.0</td>\n      <td>no</td>\n    </tr>\n    <tr>\n      <th>2</th>\n      <td>37</td>\n      <td>services</td>\n      <td>married</td>\n      <td>high.school</td>\n      <td>no</td>\n      <td>yes</td>\n      <td>no</td>\n      <td>telephone</td>\n      <td>may</td>\n      <td>mon</td>\n      <td>...</td>\n      <td>1</td>\n      <td>999</td>\n      <td>0</td>\n      <td>nonexistent</td>\n      <td>1.1</td>\n      <td>93.994</td>\n      <td>-36.4</td>\n      <td>4.857</td>\n      <td>5191.0</td>\n      <td>no</td>\n    </tr>\n    <tr>\n      <th>3</th>\n      <td>40</td>\n      <td>admin.</td>\n      <td>married</td>\n      <td>basic.6y</td>\n      <td>no</td>\n      <td>no</td>\n      <td>no</td>\n      <td>telephone</td>\n      <td>may</td>\n      <td>mon</td>\n      <td>...</td>\n      <td>1</td>\n      <td>999</td>\n      <td>0</td>\n      <td>nonexistent</td>\n      <td>1.1</td>\n      <td>93.994</td>\n      <td>-36.4</td>\n      <td>4.857</td>\n      <td>5191.0</td>\n      <td>no</td>\n    </tr>\n    <tr>\n      <th>4</th>\n      <td>56</td>\n      <td>services</td>\n      <td>married</td>\n      <td>high.school</td>\n      <td>no</td>\n      <td>no</td>\n      <td>yes</td>\n      <td>telephone</td>\n      <td>may</td>\n      <td>mon</td>\n      <td>...</td>\n      <td>1</td>\n      <td>999</td>\n      <td>0</td>\n      <td>nonexistent</td>\n      <td>1.1</td>\n      <td>93.994</td>\n      <td>-36.4</td>\n      <td>4.857</td>\n      <td>5191.0</td>\n      <td>no</td>\n    </tr>\n    <tr>\n      <th>...</th>\n      <td>...</td>\n      <td>...</td>\n      <td>...</td>\n      <td>...</td>\n      <td>...</td>\n      <td>...</td>\n      <td>...</td>\n      <td>...</td>\n      <td>...</td>\n      <td>...</td>\n      <td>...</td>\n      <td>...</td>\n      <td>...</td>\n      <td>...</td>\n      <td>...</td>\n      <td>...</td>\n      <td>...</td>\n      <td>...</td>\n      <td>...</td>\n      <td>...</td>\n      <td>...</td>\n    </tr>\n    <tr>\n      <th>41183</th>\n      <td>73</td>\n      <td>retired</td>\n      <td>married</td>\n      <td>professional.course</td>\n      <td>no</td>\n      <td>yes</td>\n      <td>no</td>\n      <td>cellular</td>\n      <td>nov</td>\n      <td>fri</td>\n      <td>...</td>\n      <td>1</td>\n      <td>999</td>\n      <td>0</td>\n      <td>nonexistent</td>\n      <td>-1.1</td>\n      <td>94.767</td>\n      <td>-50.8</td>\n      <td>1.028</td>\n      <td>4963.6</td>\n      <td>yes</td>\n    </tr>\n    <tr>\n      <th>41184</th>\n      <td>46</td>\n      <td>blue-collar</td>\n      <td>married</td>\n      <td>professional.course</td>\n      <td>no</td>\n      <td>no</td>\n      <td>no</td>\n      <td>cellular</td>\n      <td>nov</td>\n      <td>fri</td>\n      <td>...</td>\n      <td>1</td>\n      <td>999</td>\n      <td>0</td>\n      <td>nonexistent</td>\n      <td>-1.1</td>\n      <td>94.767</td>\n      <td>-50.8</td>\n      <td>1.028</td>\n      <td>4963.6</td>\n      <td>no</td>\n    </tr>\n    <tr>\n      <th>41185</th>\n      <td>56</td>\n      <td>retired</td>\n      <td>married</td>\n      <td>university.degree</td>\n      <td>no</td>\n      <td>yes</td>\n      <td>no</td>\n      <td>cellular</td>\n      <td>nov</td>\n      <td>fri</td>\n      <td>...</td>\n      <td>2</td>\n      <td>999</td>\n      <td>0</td>\n      <td>nonexistent</td>\n      <td>-1.1</td>\n      <td>94.767</td>\n      <td>-50.8</td>\n      <td>1.028</td>\n      <td>4963.6</td>\n      <td>no</td>\n    </tr>\n    <tr>\n      <th>41186</th>\n      <td>44</td>\n      <td>technician</td>\n      <td>married</td>\n      <td>professional.course</td>\n      <td>no</td>\n      <td>no</td>\n      <td>no</td>\n      <td>cellular</td>\n      <td>nov</td>\n      <td>fri</td>\n      <td>...</td>\n      <td>1</td>\n      <td>999</td>\n      <td>0</td>\n      <td>nonexistent</td>\n      <td>-1.1</td>\n      <td>94.767</td>\n      <td>-50.8</td>\n      <td>1.028</td>\n      <td>4963.6</td>\n      <td>yes</td>\n    </tr>\n    <tr>\n      <th>41187</th>\n      <td>74</td>\n      <td>retired</td>\n      <td>married</td>\n      <td>professional.course</td>\n      <td>no</td>\n      <td>yes</td>\n      <td>no</td>\n      <td>cellular</td>\n      <td>nov</td>\n      <td>fri</td>\n      <td>...</td>\n      <td>3</td>\n      <td>999</td>\n      <td>1</td>\n      <td>failure</td>\n      <td>-1.1</td>\n      <td>94.767</td>\n      <td>-50.8</td>\n      <td>1.028</td>\n      <td>4963.6</td>\n      <td>no</td>\n    </tr>\n  </tbody>\n</table>\n<p>41188 rows × 21 columns</p>\n</div>"
     },
     "execution_count": 4,
     "metadata": {},
     "output_type": "execute_result"
    }
   ],
   "source": [
    "dataset"
   ],
   "metadata": {
    "collapsed": false,
    "ExecuteTime": {
     "end_time": "2023-12-06T17:49:33.727603200Z",
     "start_time": "2023-12-06T17:49:33.677134300Z"
    }
   },
   "id": "a4be3385429d6433"
  },
  {
   "cell_type": "code",
   "execution_count": 5,
   "outputs": [
    {
     "data": {
      "text/plain": "(41188, 21)"
     },
     "execution_count": 5,
     "metadata": {},
     "output_type": "execute_result"
    }
   ],
   "source": [
    "dataset.shape"
   ],
   "metadata": {
    "collapsed": false,
    "ExecuteTime": {
     "end_time": "2023-12-06T17:49:33.728601300Z",
     "start_time": "2023-12-06T17:49:33.722171300Z"
    }
   },
   "id": "f8fb4379f68b0230"
  },
  {
   "cell_type": "code",
   "execution_count": 6,
   "outputs": [
    {
     "name": "stdout",
     "output_type": "stream",
     "text": [
      "<class 'pandas.core.frame.DataFrame'>\n",
      "RangeIndex: 41188 entries, 0 to 41187\n",
      "Data columns (total 21 columns):\n",
      " #   Column          Non-Null Count  Dtype  \n",
      "---  ------          --------------  -----  \n",
      " 0   age             41188 non-null  int64  \n",
      " 1   job             41188 non-null  object \n",
      " 2   marital         41188 non-null  object \n",
      " 3   education       41188 non-null  object \n",
      " 4   default         41188 non-null  object \n",
      " 5   housing         41188 non-null  object \n",
      " 6   loan            41188 non-null  object \n",
      " 7   contact         41188 non-null  object \n",
      " 8   month           41188 non-null  object \n",
      " 9   day_of_week     41188 non-null  object \n",
      " 10  duration        41188 non-null  int64  \n",
      " 11  campaign        41188 non-null  int64  \n",
      " 12  pdays           41188 non-null  int64  \n",
      " 13  previous        41188 non-null  int64  \n",
      " 14  poutcome        41188 non-null  object \n",
      " 15  emp.var.rate    41188 non-null  float64\n",
      " 16  cons.price.idx  41188 non-null  float64\n",
      " 17  cons.conf.idx   41188 non-null  float64\n",
      " 18  euribor3m       41188 non-null  float64\n",
      " 19  nr.employed     41188 non-null  float64\n",
      " 20  y               41188 non-null  object \n",
      "dtypes: float64(5), int64(5), object(11)\n",
      "memory usage: 6.6+ MB\n"
     ]
    }
   ],
   "source": [
    "dataset.info()"
   ],
   "metadata": {
    "collapsed": false,
    "ExecuteTime": {
     "end_time": "2023-12-06T17:49:33.793060900Z",
     "start_time": "2023-12-06T17:49:33.728601300Z"
    }
   },
   "id": "2389d892755620a3"
  },
  {
   "cell_type": "code",
   "execution_count": 7,
   "outputs": [
    {
     "data": {
      "text/plain": "age                  0\njob                330\nmarital             80\neducation         1731\ndefault           8597\nhousing            990\nloan               990\ncontact              0\nmonth                0\nday_of_week          0\nduration             0\ncampaign             0\npdays                0\nprevious             0\npoutcome             0\nemp.var.rate         0\ncons.price.idx       0\ncons.conf.idx        0\neuribor3m            0\nnr.employed          0\ny                    0\ndtype: int64"
     },
     "execution_count": 7,
     "metadata": {},
     "output_type": "execute_result"
    }
   ],
   "source": [
    "dataset.isin(['unknown']).sum()"
   ],
   "metadata": {
    "collapsed": false,
    "ExecuteTime": {
     "end_time": "2023-12-06T17:49:33.840301200Z",
     "start_time": "2023-12-06T17:49:33.746468500Z"
    }
   },
   "id": "170ba205186985d9"
  },
  {
   "cell_type": "markdown",
   "source": [
    "# Data Exploration"
   ],
   "metadata": {
    "collapsed": false
   },
   "id": "7bea61bdce297962"
  },
  {
   "cell_type": "code",
   "execution_count": 8,
   "outputs": [
    {
     "data": {
      "text/plain": "Index(['age', 'job', 'marital', 'education', 'default', 'housing', 'loan',\n       'contact', 'month', 'day_of_week', 'duration', 'campaign', 'pdays',\n       'previous', 'poutcome', 'emp.var.rate', 'cons.price.idx',\n       'cons.conf.idx', 'euribor3m', 'nr.employed', 'y'],\n      dtype='object')"
     },
     "execution_count": 8,
     "metadata": {},
     "output_type": "execute_result"
    }
   ],
   "source": [
    "dataset.columns"
   ],
   "metadata": {
    "collapsed": false,
    "ExecuteTime": {
     "end_time": "2023-12-06T17:49:33.840301200Z",
     "start_time": "2023-12-06T17:49:33.800203100Z"
    }
   },
   "id": "3800d1c99310bd63"
  },
  {
   "cell_type": "code",
   "execution_count": 9,
   "outputs": [
    {
     "name": "stdout",
     "output_type": "stream",
     "text": [
      "Value counts for 'age':\n",
      "    Count  count\n",
      "0      31   1947\n",
      "1      32   1846\n",
      "2      33   1833\n",
      "3      36   1780\n",
      "4      35   1759\n",
      "..    ...    ...\n",
      "73     89      2\n",
      "74     91      2\n",
      "75     94      1\n",
      "76     87      1\n",
      "77     95      1\n",
      "\n",
      "[78 rows x 2 columns]\n",
      "==================================================\n",
      "Value counts for 'job':\n",
      "            Count  count\n",
      "0          admin.  10422\n",
      "1     blue-collar   9254\n",
      "2      technician   6743\n",
      "3        services   3969\n",
      "4      management   2924\n",
      "5         retired   1720\n",
      "6    entrepreneur   1456\n",
      "7   self-employed   1421\n",
      "8       housemaid   1060\n",
      "9      unemployed   1014\n",
      "10        student    875\n",
      "11        unknown    330\n",
      "==================================================\n",
      "Value counts for 'marital':\n",
      "      Count  count\n",
      "0   married  24928\n",
      "1    single  11568\n",
      "2  divorced   4612\n",
      "3   unknown     80\n",
      "==================================================\n",
      "Value counts for 'education':\n",
      "                 Count  count\n",
      "0    university.degree  12168\n",
      "1          high.school   9515\n",
      "2             basic.9y   6045\n",
      "3  professional.course   5243\n",
      "4             basic.4y   4176\n",
      "5             basic.6y   2292\n",
      "6              unknown   1731\n",
      "7           illiterate     18\n",
      "==================================================\n",
      "Value counts for 'default':\n",
      "     Count  count\n",
      "0       no  32588\n",
      "1  unknown   8597\n",
      "2      yes      3\n",
      "==================================================\n",
      "Value counts for 'housing':\n",
      "     Count  count\n",
      "0      yes  21576\n",
      "1       no  18622\n",
      "2  unknown    990\n",
      "==================================================\n",
      "Value counts for 'loan':\n",
      "     Count  count\n",
      "0       no  33950\n",
      "1      yes   6248\n",
      "2  unknown    990\n",
      "==================================================\n",
      "Value counts for 'contact':\n",
      "       Count  count\n",
      "0   cellular  26144\n",
      "1  telephone  15044\n",
      "==================================================\n",
      "Value counts for 'month':\n",
      "  Count  count\n",
      "0   may  13769\n",
      "1   jul   7174\n",
      "2   aug   6178\n",
      "3   jun   5318\n",
      "4   nov   4101\n",
      "5   apr   2632\n",
      "6   oct    718\n",
      "7   sep    570\n",
      "8   mar    546\n",
      "9   dec    182\n",
      "==================================================\n",
      "Value counts for 'day_of_week':\n",
      "  Count  count\n",
      "0   thu   8623\n",
      "1   mon   8514\n",
      "2   wed   8134\n",
      "3   tue   8090\n",
      "4   fri   7827\n",
      "==================================================\n",
      "Value counts for 'duration':\n",
      "      Count  count\n",
      "0        90    170\n",
      "1        85    170\n",
      "2       136    168\n",
      "3        73    167\n",
      "4       124    164\n",
      "...     ...    ...\n",
      "1539   1569      1\n",
      "1540   1053      1\n",
      "1541   1263      1\n",
      "1542   1169      1\n",
      "1543   1868      1\n",
      "\n",
      "[1544 rows x 2 columns]\n",
      "==================================================\n",
      "Value counts for 'campaign':\n",
      "    Count  count\n",
      "0       1  17642\n",
      "1       2  10570\n",
      "2       3   5341\n",
      "3       4   2651\n",
      "4       5   1599\n",
      "5       6    979\n",
      "6       7    629\n",
      "7       8    400\n",
      "8       9    283\n",
      "9      10    225\n",
      "10     11    177\n",
      "11     12    125\n",
      "12     13     92\n",
      "13     14     69\n",
      "14     17     58\n",
      "15     16     51\n",
      "16     15     51\n",
      "17     18     33\n",
      "18     20     30\n",
      "19     19     26\n",
      "20     21     24\n",
      "21     22     17\n",
      "22     23     16\n",
      "23     24     15\n",
      "24     27     11\n",
      "25     29     10\n",
      "26     28      8\n",
      "27     26      8\n",
      "28     25      8\n",
      "29     31      7\n",
      "30     30      7\n",
      "31     35      5\n",
      "32     32      4\n",
      "33     33      4\n",
      "34     34      3\n",
      "35     42      2\n",
      "36     40      2\n",
      "37     43      2\n",
      "38     56      1\n",
      "39     39      1\n",
      "40     41      1\n",
      "41     37      1\n",
      "==================================================\n",
      "Value counts for 'pdays':\n",
      "    Count  count\n",
      "0     999  39673\n",
      "1       3    439\n",
      "2       6    412\n",
      "3       4    118\n",
      "4       9     64\n",
      "5       2     61\n",
      "6       7     60\n",
      "7      12     58\n",
      "8      10     52\n",
      "9       5     46\n",
      "10     13     36\n",
      "11     11     28\n",
      "12      1     26\n",
      "13     15     24\n",
      "14     14     20\n",
      "15      8     18\n",
      "16      0     15\n",
      "17     16     11\n",
      "18     17      8\n",
      "19     18      7\n",
      "20     22      3\n",
      "21     19      3\n",
      "22     21      2\n",
      "23     25      1\n",
      "24     26      1\n",
      "25     27      1\n",
      "26     20      1\n",
      "==================================================\n",
      "Value counts for 'previous':\n",
      "   Count  count\n",
      "0      0  35563\n",
      "1      1   4561\n",
      "2      2    754\n",
      "3      3    216\n",
      "4      4     70\n",
      "5      5     18\n",
      "6      6      5\n",
      "7      7      1\n",
      "==================================================\n",
      "Value counts for 'poutcome':\n",
      "         Count  count\n",
      "0  nonexistent  35563\n",
      "1      failure   4252\n",
      "2      success   1373\n",
      "==================================================\n",
      "Value counts for 'emp.var.rate':\n",
      "   Count  count\n",
      "0    1.4  16234\n",
      "1   -1.8   9184\n",
      "2    1.1   7763\n",
      "3   -0.1   3683\n",
      "4   -2.9   1663\n",
      "5   -3.4   1071\n",
      "6   -1.7    773\n",
      "7   -1.1    635\n",
      "8   -3.0    172\n",
      "9   -0.2     10\n",
      "==================================================\n",
      "Value counts for 'cons.price.idx':\n",
      "     Count  count\n",
      "0   93.994   7763\n",
      "1   93.918   6685\n",
      "2   92.893   5794\n",
      "3   93.444   5175\n",
      "4   94.465   4374\n",
      "5   93.200   3616\n",
      "6   93.075   2458\n",
      "7   92.201    770\n",
      "8   92.963    715\n",
      "9   92.431    447\n",
      "10  92.649    357\n",
      "11  94.215    311\n",
      "12  94.199    303\n",
      "13  92.843    282\n",
      "14  92.379    267\n",
      "15  93.369    264\n",
      "16  94.027    233\n",
      "17  94.055    229\n",
      "18  93.876    212\n",
      "19  94.601    204\n",
      "20  92.469    178\n",
      "21  93.749    174\n",
      "22  92.713    172\n",
      "23  94.767    128\n",
      "24  93.798     67\n",
      "25  92.756     10\n",
      "==================================================\n",
      "Value counts for 'cons.conf.idx':\n",
      "    Count  count\n",
      "0   -36.4   7763\n",
      "1   -42.7   6685\n",
      "2   -46.2   5794\n",
      "3   -36.1   5175\n",
      "4   -41.8   4374\n",
      "5   -42.0   3616\n",
      "6   -47.1   2458\n",
      "7   -31.4    770\n",
      "8   -40.8    715\n",
      "9   -26.9    447\n",
      "10  -30.1    357\n",
      "11  -40.3    311\n",
      "12  -37.5    303\n",
      "13  -50.0    282\n",
      "14  -29.8    267\n",
      "15  -34.8    264\n",
      "16  -38.3    233\n",
      "17  -39.8    229\n",
      "18  -40.0    212\n",
      "19  -49.5    204\n",
      "20  -33.6    178\n",
      "21  -34.6    174\n",
      "22  -33.0    172\n",
      "23  -50.8    128\n",
      "24  -40.4     67\n",
      "25  -45.9     10\n",
      "==================================================\n",
      "Value counts for 'euribor3m':\n",
      "     Count  count\n",
      "0    4.857   2868\n",
      "1    4.962   2613\n",
      "2    4.963   2487\n",
      "3    4.961   1902\n",
      "4    4.856   1210\n",
      "..     ...    ...\n",
      "311  3.853      1\n",
      "312  3.901      1\n",
      "313  0.969      1\n",
      "314  0.956      1\n",
      "315  3.669      1\n",
      "\n",
      "[316 rows x 2 columns]\n",
      "==================================================\n",
      "Value counts for 'nr.employed':\n",
      "     Count  count\n",
      "0   5228.1  16234\n",
      "1   5099.1   8534\n",
      "2   5191.0   7763\n",
      "3   5195.8   3683\n",
      "4   5076.2   1663\n",
      "5   5017.5   1071\n",
      "6   4991.6    773\n",
      "7   5008.7    650\n",
      "8   4963.6    635\n",
      "9   5023.5    172\n",
      "10  5176.3     10\n",
      "==================================================\n",
      "Value counts for 'y':\n",
      "  Count  count\n",
      "0    no  36548\n",
      "1   yes   4640\n",
      "==================================================\n"
     ]
    }
   ],
   "source": [
    "for column in dataset.columns:\n",
    "    print(f\"Value counts for '{column}':\")\n",
    "    print(dataset[column].value_counts().reset_index().rename(columns={'index': column, column: 'Count'}))\n",
    "    print(\"=\" * 50)"
   ],
   "metadata": {
    "collapsed": false,
    "ExecuteTime": {
     "end_time": "2023-12-06T17:49:33.951019800Z",
     "start_time": "2023-12-06T17:49:33.806858700Z"
    }
   },
   "id": "97732375cd6d2584"
  },
  {
   "cell_type": "code",
   "execution_count": 10,
   "outputs": [],
   "source": [
    "dataset_copy = dataset.copy()\n",
    "dataset_copy.replace('unknown', pd.NA, inplace=True)\n"
   ],
   "metadata": {
    "collapsed": false,
    "ExecuteTime": {
     "end_time": "2023-12-06T17:49:33.963019800Z",
     "start_time": "2023-12-06T17:49:33.865193500Z"
    }
   },
   "id": "e25880c885df1d04"
  },
  {
   "cell_type": "code",
   "execution_count": 11,
   "outputs": [
    {
     "data": {
      "text/plain": "age                  0\njob                330\nmarital             80\neducation         1731\ndefault           8597\nhousing            990\nloan               990\ncontact              0\nmonth                0\nday_of_week          0\nduration             0\ncampaign             0\npdays                0\nprevious             0\npoutcome             0\nemp.var.rate         0\ncons.price.idx       0\ncons.conf.idx        0\neuribor3m            0\nnr.employed          0\ny                    0\ndtype: int64"
     },
     "execution_count": 11,
     "metadata": {},
     "output_type": "execute_result"
    }
   ],
   "source": [
    "dataset_copy.isnull().sum()"
   ],
   "metadata": {
    "collapsed": false,
    "ExecuteTime": {
     "end_time": "2023-12-06T17:49:33.967023Z",
     "start_time": "2023-12-06T17:49:33.890061700Z"
    }
   },
   "id": "24bc7a1b6b0c61fa"
  },
  {
   "cell_type": "code",
   "execution_count": 13,
   "outputs": [],
   "source": [
    "dataset_copy = dataset_copy.dropna()"
   ],
   "metadata": {
    "collapsed": false,
    "ExecuteTime": {
     "end_time": "2023-12-06T17:51:11.554326300Z",
     "start_time": "2023-12-06T17:51:11.513444900Z"
    }
   },
   "id": "894133cd7ecb3d81"
  },
  {
   "cell_type": "code",
   "execution_count": 14,
   "outputs": [
    {
     "data": {
      "text/plain": "age               0\njob               0\nmarital           0\neducation         0\ndefault           0\nhousing           0\nloan              0\ncontact           0\nmonth             0\nday_of_week       0\nduration          0\ncampaign          0\npdays             0\nprevious          0\npoutcome          0\nemp.var.rate      0\ncons.price.idx    0\ncons.conf.idx     0\neuribor3m         0\nnr.employed       0\ny                 0\ndtype: int64"
     },
     "execution_count": 14,
     "metadata": {},
     "output_type": "execute_result"
    }
   ],
   "source": [
    "dataset_copy.isnull().sum()"
   ],
   "metadata": {
    "collapsed": false,
    "ExecuteTime": {
     "end_time": "2023-12-06T17:51:12.315447100Z",
     "start_time": "2023-12-06T17:51:12.291262600Z"
    }
   },
   "id": "2e71fccc1d007cb6"
  },
  {
   "cell_type": "code",
   "execution_count": 16,
   "outputs": [
    {
     "name": "stdout",
     "output_type": "stream",
     "text": [
      "Original dataset:(41188, 21)\n",
      "Copied dataset with  dropped missing values:(30488, 21)\n"
     ]
    }
   ],
   "source": [
    "print(f\"Original dataset:{dataset.shape}\")\n",
    "print(f\"Copied dataset with  dropped missing values:{dataset_copy.shape}\")"
   ],
   "metadata": {
    "collapsed": false,
    "ExecuteTime": {
     "end_time": "2023-12-06T17:52:23.996258300Z",
     "start_time": "2023-12-06T17:52:23.982857200Z"
    }
   },
   "id": "826b3f44fda336e6"
  },
  {
   "cell_type": "code",
   "execution_count": null,
   "outputs": [],
   "source": [],
   "metadata": {
    "collapsed": false
   },
   "id": "6fd0981a41cfbf9a"
  }
 ],
 "metadata": {
  "kernelspec": {
   "display_name": "Python 3",
   "language": "python",
   "name": "python3"
  },
  "language_info": {
   "codemirror_mode": {
    "name": "ipython",
    "version": 2
   },
   "file_extension": ".py",
   "mimetype": "text/x-python",
   "name": "python",
   "nbconvert_exporter": "python",
   "pygments_lexer": "ipython2",
   "version": "2.7.6"
  }
 },
 "nbformat": 4,
 "nbformat_minor": 5
}
